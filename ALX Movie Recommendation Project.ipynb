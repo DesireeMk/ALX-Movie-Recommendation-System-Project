{
 "cells": [
  {
   "cell_type": "markdown",
   "id": "c5a54767",
   "metadata": {
    "id": "c5a54767"
   },
   "source": [
    "<div align=\"center\" style=\" font-size: 80%; text-align: center; margin: 0 auto\">\n",
    "<img src=\"https://raw.githubusercontent.com/Explore-AI/Pictures/master/Python-Notebook-Banners/Examples.png\"  style=\"display: block; margin-left: auto; margin-right: auto;\";/>\n",
    "</div>"
   ]
  },
  {
   "cell_type": "markdown",
   "id": "diagnostic-privacy",
   "metadata": {
    "id": "diagnostic-privacy",
    "papermill": {
     "duration": 0.012314,
     "end_time": "2021-06-14T11:19:49.342358",
     "exception": false,
     "start_time": "2021-06-14T11:19:49.330044",
     "status": "completed"
    },
    "tags": []
   },
   "source": [
    "# Introduction\n",
    "\n",
    "The followig aims to get you up and running with the predict.\n",
    "Make a copy of the notebook and run all cells. We will also show you how to get your submission file from kaggle."
   ]
  },
  {
   "cell_type": "code",
   "execution_count": 1,
   "id": "seasonal-musical",
   "metadata": {
    "_cell_guid": "b1076dfc-b9ad-4769-8c92-a6c4dae69d19",
    "_uuid": "8f2839f25d086af736a60e9eeb907d3b93b6e0e5",
    "id": "seasonal-musical",
    "papermill": {
     "duration": 0.024972,
     "end_time": "2021-06-14T11:19:49.378659",
     "exception": false,
     "start_time": "2021-06-14T11:19:49.353687",
     "status": "completed"
    },
    "tags": []
   },
   "outputs": [],
   "source": [
    "# This Python 3 environment comes with many helpful analytics libraries installed\n",
    "# It is defined by the kaggle/python Docker image: https://github.com/kaggle/docker-python\n",
    "# For example, here's several helpful packages to load\n",
    "\n",
    "import numpy as np # linear algebra\n",
    "import pandas as pd # data processing, CSV file I/O (e.g. pd.read_csv)\n",
    "\n",
    "# Input data files are available in the read-only \"../input/\" directory\n",
    "# For example, running this (by clicking run or pressing Shift+Enter) will list all files under the input directory\n",
    "\n",
    "import os\n",
    "for dirname, _, filenames in os.walk('/kaggle/input'):\n",
    "    for filename in filenames:\n",
    "        print(os.path.join(dirname, filename))\n",
    "\n",
    "# You can write up to 20GB to the current directory (/kaggle/working/) that gets preserved as output when you create a version using \"Save & Run All\"\n",
    "# You can also write temporary files to /kaggle/temp/, but they won't be saved outside of the current session"
   ]
  },
  {
   "cell_type": "markdown",
   "id": "alien-ability",
   "metadata": {
    "id": "alien-ability",
    "papermill": {
     "duration": 0.011326,
     "end_time": "2021-06-14T11:19:49.401974",
     "exception": false,
     "start_time": "2021-06-14T11:19:49.390648",
     "status": "completed"
    },
    "tags": []
   },
   "source": [
    "## Installing packages\n",
    "Please download all relevant packages in. There is no terminal so you will pip install everything.\n",
    "\n",
    "You can find a list of recommended install from the Intro to Recommender sysytem notebook."
   ]
  },
  {
   "cell_type": "code",
   "execution_count": 1,
   "id": "a1ac6aa6-eafb-4794-8724-ebd520ad5784",
   "metadata": {},
   "outputs": [
    {
     "name": "stdout",
     "output_type": "stream",
     "text": [
      "Collecting scikit-surprise\n",
      "  Using cached scikit_surprise-1.1.4.tar.gz (154 kB)\n",
      "  Installing build dependencies: started\n",
      "  Installing build dependencies: finished with status 'done'\n",
      "  Getting requirements to build wheel: started\n",
      "  Getting requirements to build wheel: finished with status 'done'\n",
      "  Preparing metadata (pyproject.toml): started\n",
      "  Preparing metadata (pyproject.toml): finished with status 'done'\n",
      "Requirement already satisfied: joblib>=1.2.0 in c:\\users\\chris\\anaconda3\\envs\\my_environment\\lib\\site-packages (from scikit-surprise) (1.3.2)\n",
      "Requirement already satisfied: numpy>=1.19.5 in c:\\users\\chris\\anaconda3\\envs\\my_environment\\lib\\site-packages (from scikit-surprise) (1.26.4)\n",
      "Requirement already satisfied: scipy>=1.6.0 in c:\\users\\chris\\anaconda3\\envs\\my_environment\\lib\\site-packages (from scikit-surprise) (1.12.0)\n",
      "Building wheels for collected packages: scikit-surprise\n",
      "  Building wheel for scikit-surprise (pyproject.toml): started\n",
      "  Building wheel for scikit-surprise (pyproject.toml): finished with status 'done'\n",
      "  Created wheel for scikit-surprise: filename=scikit_surprise-1.1.4-cp312-cp312-win_amd64.whl size=1290938 sha256=0e9fffa5940cc292348b6a053ebea40e8050293703f42623fc193a3c62625615\n",
      "  Stored in directory: c:\\users\\chris\\appdata\\local\\pip\\cache\\wheels\\75\\fa\\bc\\739bc2cb1fbaab6061854e6cfbb81a0ae52c92a502a7fa454b\n",
      "Successfully built scikit-surprise\n",
      "Installing collected packages: scikit-surprise\n",
      "Successfully installed scikit-surprise-1.1.4\n",
      "Note: you may need to restart the kernel to use updated packages.\n"
     ]
    }
   ],
   "source": [
    "pip install scikit-surprise\n"
   ]
  },
  {
   "cell_type": "code",
   "execution_count": 2,
   "id": "third-pregnancy",
   "metadata": {
    "id": "third-pregnancy",
    "papermill": {
     "duration": 1.07453,
     "end_time": "2021-06-14T11:19:50.487990",
     "exception": false,
     "start_time": "2021-06-14T11:19:49.413460",
     "status": "completed"
    },
    "tags": []
   },
   "outputs": [],
   "source": [
    "# Install packages here\n",
    "# Packages for data processing\n",
    "import numpy as np\n",
    "import pandas as pd\n",
    "import datetime\n",
    "from sklearn import preprocessing\n",
    "from sklearn.datasets import make_blobs\n",
    "from sklearn.preprocessing import StandardScaler\n",
    "from sklearn.feature_extraction.text import TfidfVectorizer\n",
    "from sklearn.metrics.pairwise import cosine_similarity\n",
    "import re\n",
    "from scipy.sparse import csr_matrix\n",
    "import scipy as sp\n",
    "\n",
    "\n",
    "# Packages for visualization\n",
    "import matplotlib.pyplot as plt\n",
    "import seaborn as sns\n",
    "%matplotlib inline\n",
    "\n",
    "# Packages for modeling\n",
    "from surprise import Reader\n",
    "from surprise import Dataset\n",
    "from surprise import KNNWithMeans\n",
    "from surprise import KNNBasic\n",
    "from surprise.model_selection import cross_validate\n",
    "from surprise.model_selection import GridSearchCV\n",
    "from surprise import SVD\n",
    "from surprise import SVDpp\n",
    "from surprise import NMF\n",
    "from surprise import SlopeOne\n",
    "from surprise import CoClustering\n",
    "import heapq\n",
    "\n",
    "# Packages for model evaluation\n",
    "from sklearn.metrics import mean_squared_error\n",
    "from sklearn.metrics import mean_absolute_error\n",
    "from time import time\n",
    "\n",
    "# Package to suppress warnings\n",
    "import warnings\n",
    "warnings.filterwarnings(\"ignore\")\n",
    "\n",
    "# Packages for saving models\n",
    "import pickle\n"
   ]
  },
  {
   "cell_type": "markdown",
   "id": "reasonable-space",
   "metadata": {
    "id": "reasonable-space",
    "papermill": {
     "duration": 0.011369,
     "end_time": "2021-06-14T11:19:50.511223",
     "exception": false,
     "start_time": "2021-06-14T11:19:50.499854",
     "status": "completed"
    },
    "tags": []
   },
   "source": [
    "## Reading in data"
   ]
  },
  {
   "cell_type": "code",
   "execution_count": 7,
   "id": "644cf471-b6bb-4764-8cc6-009c7f023ca0",
   "metadata": {},
   "outputs": [],
   "source": [
    "train_df = pd.read_csv(r\"C:\\Users\\chris\\Downloads\\UNSUPERVISED LEARNING\\KAGGLE COMPETITION\\alx-movie-recommendation-project-2024\\train.csv\")\n",
    "movies_df = pd.read_csv(r\"C:\\Users\\chris\\Downloads\\UNSUPERVISED LEARNING\\KAGGLE COMPETITION\\alx-movie-recommendation-project-2024\\movies.csv\")\n",
    "imdb_df = pd.read_csv(r\"C:\\Users\\chris\\Downloads\\UNSUPERVISED LEARNING\\KAGGLE COMPETITION\\alx-movie-recommendation-project-2024\\imdb_data.csv\")\n",
    "test_df = pd.read_csv(r\"C:\\Users\\chris\\Downloads\\UNSUPERVISED LEARNING\\KAGGLE COMPETITION\\alx-movie-recommendation-project-2024\\test.csv\")\n",
    "links_df = pd.read_csv(r\"C:\\Users\\chris\\Downloads\\UNSUPERVISED LEARNING\\KAGGLE COMPETITION\\alx-movie-recommendation-project-2024\\links.csv\")\n",
    "tags_df = pd.read_csv(r\"C:\\Users\\chris\\Downloads\\UNSUPERVISED LEARNING\\KAGGLE COMPETITION\\alx-movie-recommendation-project-2024\\tags.csv\")\n",
    "genome_scores_df = pd.read_csv(r\"C:\\Users\\chris\\Downloads\\UNSUPERVISED LEARNING\\KAGGLE COMPETITION\\alx-movie-recommendation-project-2024\\genome_scores.csv\")\n",
    "genome_tags_df = pd.read_csv(r\"C:\\Users\\chris\\Downloads\\UNSUPERVISED LEARNING\\KAGGLE COMPETITION\\alx-movie-recommendation-project-2024\\genome_tags.csv\")\n",
    "sample_submissions_df = pd.read_csv(r\"C:\\Users\\chris\\Downloads\\UNSUPERVISED LEARNING\\KAGGLE COMPETITION\\alx-movie-recommendation-project-2024\\sample_submission.csv\")"
   ]
  },
  {
   "cell_type": "code",
   "execution_count": 8,
   "id": "alien-desperate",
   "metadata": {
    "id": "alien-desperate",
    "papermill": {
     "duration": 0.037338,
     "end_time": "2021-06-14T11:20:08.420852",
     "exception": false,
     "start_time": "2021-06-14T11:20:08.383514",
     "status": "completed"
    },
    "tags": []
   },
   "outputs": [
    {
     "data": {
      "text/html": [
       "<div>\n",
       "<style scoped>\n",
       "    .dataframe tbody tr th:only-of-type {\n",
       "        vertical-align: middle;\n",
       "    }\n",
       "\n",
       "    .dataframe tbody tr th {\n",
       "        vertical-align: top;\n",
       "    }\n",
       "\n",
       "    .dataframe thead th {\n",
       "        text-align: right;\n",
       "    }\n",
       "</style>\n",
       "<table border=\"1\" class=\"dataframe\">\n",
       "  <thead>\n",
       "    <tr style=\"text-align: right;\">\n",
       "      <th></th>\n",
       "      <th>movieId</th>\n",
       "      <th>title</th>\n",
       "      <th>genres</th>\n",
       "    </tr>\n",
       "  </thead>\n",
       "  <tbody>\n",
       "    <tr>\n",
       "      <th>0</th>\n",
       "      <td>1</td>\n",
       "      <td>Toy Story (1995)</td>\n",
       "      <td>Adventure|Animation|Children|Comedy|Fantasy</td>\n",
       "    </tr>\n",
       "    <tr>\n",
       "      <th>1</th>\n",
       "      <td>2</td>\n",
       "      <td>Jumanji (1995)</td>\n",
       "      <td>Adventure|Children|Fantasy</td>\n",
       "    </tr>\n",
       "    <tr>\n",
       "      <th>2</th>\n",
       "      <td>3</td>\n",
       "      <td>Grumpier Old Men (1995)</td>\n",
       "      <td>Comedy|Romance</td>\n",
       "    </tr>\n",
       "    <tr>\n",
       "      <th>3</th>\n",
       "      <td>4</td>\n",
       "      <td>Waiting to Exhale (1995)</td>\n",
       "      <td>Comedy|Drama|Romance</td>\n",
       "    </tr>\n",
       "    <tr>\n",
       "      <th>4</th>\n",
       "      <td>5</td>\n",
       "      <td>Father of the Bride Part II (1995)</td>\n",
       "      <td>Comedy</td>\n",
       "    </tr>\n",
       "  </tbody>\n",
       "</table>\n",
       "</div>"
      ],
      "text/plain": [
       "   movieId                               title  \\\n",
       "0        1                    Toy Story (1995)   \n",
       "1        2                      Jumanji (1995)   \n",
       "2        3             Grumpier Old Men (1995)   \n",
       "3        4            Waiting to Exhale (1995)   \n",
       "4        5  Father of the Bride Part II (1995)   \n",
       "\n",
       "                                        genres  \n",
       "0  Adventure|Animation|Children|Comedy|Fantasy  \n",
       "1                   Adventure|Children|Fantasy  \n",
       "2                               Comedy|Romance  \n",
       "3                         Comedy|Drama|Romance  \n",
       "4                                       Comedy  "
      ]
     },
     "execution_count": 8,
     "metadata": {},
     "output_type": "execute_result"
    }
   ],
   "source": [
    "movies_df.head()"
   ]
  },
  {
   "cell_type": "code",
   "execution_count": 9,
   "id": "incorporated-respondent",
   "metadata": {
    "id": "incorporated-respondent",
    "papermill": {
     "duration": 0.023503,
     "end_time": "2021-06-14T11:20:08.456451",
     "exception": false,
     "start_time": "2021-06-14T11:20:08.432948",
     "status": "completed"
    },
    "tags": []
   },
   "outputs": [
    {
     "data": {
      "text/plain": [
       "(62423, 3)"
      ]
     },
     "execution_count": 9,
     "metadata": {},
     "output_type": "execute_result"
    }
   ],
   "source": [
    "movies_df.shape"
   ]
  },
  {
   "cell_type": "markdown",
   "id": "parliamentary-saturn",
   "metadata": {
    "id": "parliamentary-saturn",
    "papermill": {
     "duration": 0.011896,
     "end_time": "2021-06-14T11:20:08.480518",
     "exception": false,
     "start_time": "2021-06-14T11:20:08.468622",
     "status": "completed"
    },
    "tags": []
   },
   "source": [
    "## EDA\n",
    "\n",
    "\n",
    "### Outliers\n",
    "- **Identify outliers**: Outliers are data points that differ significantly from other observations. They can skew and mislead the training process of a machine learning model.\n",
    "- **Detecting outliers**: Use statistical methods such as Z-scores or IQR (Interquartile Range) to detect outliers.\n",
    "- **Handling outliers**: Decide whether to remove or transform the outliers depending on their impact on the dataset.\n",
    "\n",
    "### Understanding Relationships Between Various Attributes and Structure of the Data\n",
    "- **Correlation Analysis**: Use correlation matrices to understand the relationships between numerical attributes.\n",
    "- **Visualization Techniques**: Employ scatter plots, pair plots, and heatmaps to visualize and explore relationships.\n",
    "- **Data Structure**: Understand the structure of the data, including the distribution of values and the presence of any missing values.\n",
    "\n",
    "### Recognizing Important Variables\n",
    "- **Feature Importance**: Use techniques like Random Forests, Gradient Boosting, or SHAP values to determine feature importance.\n",
    "- **Domain Knowledge**: Incorporate domain expertise to identify which variables are likely to be important.\n",
    "- **Statistical Tests**: Conduct statistical tests to identify variables that have significant effects on the target variable.\n",
    "\n",
    "By understanding the data through these steps, we ensure a robust foundation for building and evaluating machine learning models.\n"
   ]
  },
  {
   "cell_type": "markdown",
   "id": "66d42217",
   "metadata": {
    "id": "66d42217"
   },
   "source": [
    "**Lets Check whether or not we have any missing values in our dataset**"
   ]
  },
  {
   "cell_type": "code",
   "execution_count": 10,
   "id": "2e31dda3",
   "metadata": {
    "id": "2e31dda3"
   },
   "outputs": [
    {
     "name": "stdout",
     "output_type": "stream",
     "text": [
      "Train: \n",
      "userId       0\n",
      "movieId      0\n",
      "rating       0\n",
      "timestamp    0\n",
      "dtype: int64\n",
      "************\n",
      "Test: \n",
      "userId     0\n",
      "movieId    0\n",
      "dtype: int64\n",
      "************\n",
      "Movies: \n",
      "movieId    0\n",
      "title      0\n",
      "genres     0\n",
      "dtype: int64\n",
      "************\n",
      "Links: \n",
      "movieId      0\n",
      "imdbId       0\n",
      "tmdbId     107\n",
      "dtype: int64\n",
      "************\n",
      "IMDB: \n",
      "movieId              0\n",
      "title_cast       10068\n",
      "director          9874\n",
      "runtime          12089\n",
      "budget           19372\n",
      "plot_keywords    11078\n",
      "dtype: int64\n",
      "************\n",
      "Genome scores: \n"
     ]
    },
    {
     "ename": "NameError",
     "evalue": "name 'genome_scores' is not defined",
     "output_type": "error",
     "traceback": [
      "\u001b[1;31m---------------------------------------------------------------------------\u001b[0m",
      "\u001b[1;31mNameError\u001b[0m                                 Traceback (most recent call last)",
      "Cell \u001b[1;32mIn[10], line 17\u001b[0m\n\u001b[0;32m     15\u001b[0m \u001b[38;5;28mprint\u001b[39m(\u001b[38;5;124m\"\u001b[39m\u001b[38;5;124m************\u001b[39m\u001b[38;5;124m\"\u001b[39m)\n\u001b[0;32m     16\u001b[0m \u001b[38;5;28mprint\u001b[39m(\u001b[38;5;124m\"\u001b[39m\u001b[38;5;124mGenome scores: \u001b[39m\u001b[38;5;124m\"\u001b[39m)\n\u001b[1;32m---> 17\u001b[0m \u001b[38;5;28mprint\u001b[39m(\u001b[38;5;28mstr\u001b[39m(genome_scores\u001b[38;5;241m.\u001b[39misnull()\u001b[38;5;241m.\u001b[39msum()))\n\u001b[0;32m     18\u001b[0m \u001b[38;5;28mprint\u001b[39m(\u001b[38;5;124m\"\u001b[39m\u001b[38;5;124m************\u001b[39m\u001b[38;5;124m\"\u001b[39m)\n\u001b[0;32m     19\u001b[0m \u001b[38;5;28mprint\u001b[39m(\u001b[38;5;124m\"\u001b[39m\u001b[38;5;124mGenome tags: \u001b[39m\u001b[38;5;124m\"\u001b[39m)\n",
      "\u001b[1;31mNameError\u001b[0m: name 'genome_scores' is not defined"
     ]
    }
   ],
   "source": [
    "print(\"Train: \")\n",
    "print(str(train_df.isnull().sum()))\n",
    "print(\"************\")\n",
    "print(\"Test: \")\n",
    "print(str(test_df.isnull().sum()))\n",
    "print(\"************\")\n",
    "print(\"Movies: \")\n",
    "print(str(movies_df.isnull().sum()))\n",
    "print(\"************\")\n",
    "print(\"Links: \")\n",
    "print(str(links_df.isnull().sum()))\n",
    "print(\"************\")\n",
    "print(\"IMDB: \")\n",
    "print(str(imdb_df.isnull().sum()))\n",
    "print(\"************\")\n",
    "print(\"Genome scores: \")\n",
    "print(str(genome_scores.isnull().sum()))\n",
    "print(\"************\")\n",
    "print(\"Genome tags: \")\n",
    "print(str(genome_tags.isnull().sum()))"
   ]
  },
  {
   "cell_type": "code",
   "execution_count": 11,
   "id": "a7367d90-8f56-4b6d-9ac3-94c698362445",
   "metadata": {},
   "outputs": [
    {
     "name": "stdout",
     "output_type": "stream",
     "text": [
      "Train: \n",
      "userId       0\n",
      "movieId      0\n",
      "rating       0\n",
      "timestamp    0\n",
      "dtype: int64\n",
      "************\n",
      "Test: \n",
      "userId     0\n",
      "movieId    0\n",
      "dtype: int64\n",
      "************\n",
      "Movies: \n",
      "movieId    0\n",
      "title      0\n",
      "genres     0\n",
      "dtype: int64\n",
      "************\n",
      "Links: \n",
      "movieId      0\n",
      "imdbId       0\n",
      "tmdbId     107\n",
      "dtype: int64\n",
      "************\n",
      "IMDB: \n",
      "movieId              0\n",
      "title_cast       10068\n",
      "director          9874\n",
      "runtime          12089\n",
      "budget           19372\n",
      "plot_keywords    11078\n",
      "dtype: int64\n",
      "************\n",
      "Genome scores: \n",
      "movieId      0\n",
      "tagId        0\n",
      "relevance    0\n",
      "dtype: int64\n",
      "************\n",
      "Genome tags: \n",
      "tagId    0\n",
      "tag      0\n",
      "dtype: int64\n"
     ]
    }
   ],
   "source": [
    "import pandas as pd\n",
    "\n",
    "# Load data files\n",
    "train_df = pd.read_csv(r'C:\\Users\\chris\\Downloads\\UNSUPERVISED LEARNING\\KAGGLE COMPETITION\\alx-movie-recommendation-project-2024\\train.csv')\n",
    "movies_df = pd.read_csv(r'C:\\Users\\chris\\Downloads\\UNSUPERVISED LEARNING\\KAGGLE COMPETITION\\alx-movie-recommendation-project-2024\\movies.csv')\n",
    "imdb_df = pd.read_csv(r'C:\\Users\\chris\\Downloads\\UNSUPERVISED LEARNING\\KAGGLE COMPETITION\\alx-movie-recommendation-project-2024\\imdb_data.csv')\n",
    "test_df = pd.read_csv(r'C:\\Users\\chris\\Downloads\\UNSUPERVISED LEARNING\\KAGGLE COMPETITION\\alx-movie-recommendation-project-2024\\test.csv')\n",
    "links_df = pd.read_csv(r'C:\\Users\\chris\\Downloads\\UNSUPERVISED LEARNING\\KAGGLE COMPETITION\\alx-movie-recommendation-project-2024\\links.csv')\n",
    "tags_df = pd.read_csv(r'C:\\Users\\chris\\Downloads\\UNSUPERVISED LEARNING\\KAGGLE COMPETITION\\alx-movie-recommendation-project-2024\\tags.csv')\n",
    "genome_scores_df = pd.read_csv(r'C:\\Users\\chris\\Downloads\\UNSUPERVISED LEARNING\\KAGGLE COMPETITION\\alx-movie-recommendation-project-2024\\genome_scores.csv')\n",
    "genome_tags_df = pd.read_csv(r'C:\\Users\\chris\\Downloads\\UNSUPERVISED LEARNING\\KAGGLE COMPETITION\\alx-movie-recommendation-project-2024\\genome_tags.csv')\n",
    "sample_submissions_df = pd.read_csv(r'C:\\Users\\chris\\Downloads\\UNSUPERVISED LEARNING\\KAGGLE COMPETITION\\alx-movie-recommendation-project-2024\\sample_submission.csv')\n",
    "\n",
    "# Check for missing values\n",
    "print(\"Train: \")\n",
    "print(train_df.isnull().sum())\n",
    "print(\"************\")\n",
    "print(\"Test: \")\n",
    "print(test_df.isnull().sum())\n",
    "print(\"************\")\n",
    "print(\"Movies: \")\n",
    "print(movies_df.isnull().sum())\n",
    "print(\"************\")\n",
    "print(\"Links: \")\n",
    "print(links_df.isnull().sum())\n",
    "print(\"************\")\n",
    "print(\"IMDB: \")\n",
    "print(imdb_df.isnull().sum())\n",
    "print(\"************\")\n",
    "print(\"Genome scores: \")\n",
    "print(genome_scores_df.isnull().sum())\n",
    "print(\"************\")\n",
    "print(\"Genome tags: \")\n",
    "print(genome_tags_df.isnull().sum())\n"
   ]
  },
  {
   "cell_type": "markdown",
   "id": "french-cooler",
   "metadata": {
    "id": "french-cooler",
    "papermill": {
     "duration": 0.012939,
     "end_time": "2021-06-14T11:20:09.159029",
     "exception": false,
     "start_time": "2021-06-14T11:20:09.146090",
     "status": "completed"
    },
    "tags": []
   },
   "source": [
    "## Data Preparation"
   ]
  },
  {
   "cell_type": "markdown",
   "id": "58f5e907",
   "metadata": {
    "id": "58f5e907"
   },
   "source": [
    "Data preparation is the process of preparing raw data so that it is suitable for further processing and analysis. Key steps include:\n",
    "\n",
    "- **Collecting**: Gathering raw data from various sources.\n",
    "- **Cleaning**: Removing or correcting any errors or inconsistencies in the data. This includes handling missing values, correcting data types, and removing duplicates.\n",
    "- **Labeling**: Annotating data with labels that are required for supervised machine learning tasks. This involves identifying and marking the target variable.\n",
    "- **Transforming**: Converting raw data into a format that is suitable for analysis. This includes normalization, scaling, encoding categorical variables, and feature engineering.\n",
    "- **Exploring**: Analyzing the data to understand its structure and relationships. This step includes generating descriptive statistics and visualizing the data to identify patterns and insights.\n",
    "- **Visualizing**: Creating graphical representations of the data to better understand distributions, trends, and relationships among variables. Common techniques include histograms, bar charts, scatter plots, and heatmaps.\n",
    "\n",
    "By following these steps, raw data is transformed into a structured format that is ready for machine learning algorithms and further analysis.\n"
   ]
  },
  {
   "cell_type": "code",
   "execution_count": 12,
   "id": "2d8bebfc",
   "metadata": {
    "id": "2d8bebfc"
   },
   "outputs": [
    {
     "data": {
      "text/html": [
       "<div>\n",
       "<style scoped>\n",
       "    .dataframe tbody tr th:only-of-type {\n",
       "        vertical-align: middle;\n",
       "    }\n",
       "\n",
       "    .dataframe tbody tr th {\n",
       "        vertical-align: top;\n",
       "    }\n",
       "\n",
       "    .dataframe thead th {\n",
       "        text-align: right;\n",
       "    }\n",
       "</style>\n",
       "<table border=\"1\" class=\"dataframe\">\n",
       "  <thead>\n",
       "    <tr style=\"text-align: right;\">\n",
       "      <th></th>\n",
       "      <th>movieId</th>\n",
       "      <th>title</th>\n",
       "      <th>genres</th>\n",
       "    </tr>\n",
       "  </thead>\n",
       "  <tbody>\n",
       "    <tr>\n",
       "      <th>0</th>\n",
       "      <td>1</td>\n",
       "      <td>Toy Story (1995)</td>\n",
       "      <td>Adventure|Animation|Children|Comedy|Fantasy</td>\n",
       "    </tr>\n",
       "    <tr>\n",
       "      <th>1</th>\n",
       "      <td>2</td>\n",
       "      <td>Jumanji (1995)</td>\n",
       "      <td>Adventure|Children|Fantasy</td>\n",
       "    </tr>\n",
       "    <tr>\n",
       "      <th>2</th>\n",
       "      <td>3</td>\n",
       "      <td>Grumpier Old Men (1995)</td>\n",
       "      <td>Comedy|Romance</td>\n",
       "    </tr>\n",
       "    <tr>\n",
       "      <th>3</th>\n",
       "      <td>4</td>\n",
       "      <td>Waiting to Exhale (1995)</td>\n",
       "      <td>Comedy|Drama|Romance</td>\n",
       "    </tr>\n",
       "    <tr>\n",
       "      <th>4</th>\n",
       "      <td>5</td>\n",
       "      <td>Father of the Bride Part II (1995)</td>\n",
       "      <td>Comedy</td>\n",
       "    </tr>\n",
       "  </tbody>\n",
       "</table>\n",
       "</div>"
      ],
      "text/plain": [
       "   movieId                               title  \\\n",
       "0        1                    Toy Story (1995)   \n",
       "1        2                      Jumanji (1995)   \n",
       "2        3             Grumpier Old Men (1995)   \n",
       "3        4            Waiting to Exhale (1995)   \n",
       "4        5  Father of the Bride Part II (1995)   \n",
       "\n",
       "                                        genres  \n",
       "0  Adventure|Animation|Children|Comedy|Fantasy  \n",
       "1                   Adventure|Children|Fantasy  \n",
       "2                               Comedy|Romance  \n",
       "3                         Comedy|Drama|Romance  \n",
       "4                                       Comedy  "
      ]
     },
     "execution_count": 12,
     "metadata": {},
     "output_type": "execute_result"
    }
   ],
   "source": [
    "movies_df.head()"
   ]
  },
  {
   "cell_type": "code",
   "execution_count": 14,
   "id": "f85d2997",
   "metadata": {
    "id": "f85d2997"
   },
   "outputs": [
    {
     "data": {
      "text/html": [
       "<div>\n",
       "<style scoped>\n",
       "    .dataframe tbody tr th:only-of-type {\n",
       "        vertical-align: middle;\n",
       "    }\n",
       "\n",
       "    .dataframe tbody tr th {\n",
       "        vertical-align: top;\n",
       "    }\n",
       "\n",
       "    .dataframe thead th {\n",
       "        text-align: right;\n",
       "    }\n",
       "</style>\n",
       "<table border=\"1\" class=\"dataframe\">\n",
       "  <thead>\n",
       "    <tr style=\"text-align: right;\">\n",
       "      <th></th>\n",
       "      <th>userId</th>\n",
       "      <th>movieId</th>\n",
       "      <th>rating</th>\n",
       "      <th>timestamp</th>\n",
       "    </tr>\n",
       "  </thead>\n",
       "  <tbody>\n",
       "    <tr>\n",
       "      <th>0</th>\n",
       "      <td>5163</td>\n",
       "      <td>57669</td>\n",
       "      <td>4.0</td>\n",
       "      <td>1518349992</td>\n",
       "    </tr>\n",
       "    <tr>\n",
       "      <th>1</th>\n",
       "      <td>106343</td>\n",
       "      <td>5</td>\n",
       "      <td>4.5</td>\n",
       "      <td>1206238739</td>\n",
       "    </tr>\n",
       "    <tr>\n",
       "      <th>2</th>\n",
       "      <td>146790</td>\n",
       "      <td>5459</td>\n",
       "      <td>5.0</td>\n",
       "      <td>1076215539</td>\n",
       "    </tr>\n",
       "    <tr>\n",
       "      <th>3</th>\n",
       "      <td>106362</td>\n",
       "      <td>32296</td>\n",
       "      <td>2.0</td>\n",
       "      <td>1423042565</td>\n",
       "    </tr>\n",
       "    <tr>\n",
       "      <th>4</th>\n",
       "      <td>9041</td>\n",
       "      <td>366</td>\n",
       "      <td>3.0</td>\n",
       "      <td>833375837</td>\n",
       "    </tr>\n",
       "  </tbody>\n",
       "</table>\n",
       "</div>"
      ],
      "text/plain": [
       "   userId  movieId  rating   timestamp\n",
       "0    5163    57669     4.0  1518349992\n",
       "1  106343        5     4.5  1206238739\n",
       "2  146790     5459     5.0  1076215539\n",
       "3  106362    32296     2.0  1423042565\n",
       "4    9041      366     3.0   833375837"
      ]
     },
     "execution_count": 14,
     "metadata": {},
     "output_type": "execute_result"
    }
   ],
   "source": [
    "train_df.head()"
   ]
  },
  {
   "cell_type": "code",
   "execution_count": 15,
   "id": "3fa34c6a",
   "metadata": {
    "id": "3fa34c6a"
   },
   "outputs": [
    {
     "data": {
      "text/html": [
       "<div>\n",
       "<style scoped>\n",
       "    .dataframe tbody tr th:only-of-type {\n",
       "        vertical-align: middle;\n",
       "    }\n",
       "\n",
       "    .dataframe tbody tr th {\n",
       "        vertical-align: top;\n",
       "    }\n",
       "\n",
       "    .dataframe thead th {\n",
       "        text-align: right;\n",
       "    }\n",
       "</style>\n",
       "<table border=\"1\" class=\"dataframe\">\n",
       "  <thead>\n",
       "    <tr style=\"text-align: right;\">\n",
       "      <th></th>\n",
       "      <th>userId</th>\n",
       "      <th>movieId</th>\n",
       "    </tr>\n",
       "  </thead>\n",
       "  <tbody>\n",
       "    <tr>\n",
       "      <th>0</th>\n",
       "      <td>1</td>\n",
       "      <td>2011</td>\n",
       "    </tr>\n",
       "    <tr>\n",
       "      <th>1</th>\n",
       "      <td>1</td>\n",
       "      <td>4144</td>\n",
       "    </tr>\n",
       "    <tr>\n",
       "      <th>2</th>\n",
       "      <td>1</td>\n",
       "      <td>5767</td>\n",
       "    </tr>\n",
       "    <tr>\n",
       "      <th>3</th>\n",
       "      <td>1</td>\n",
       "      <td>6711</td>\n",
       "    </tr>\n",
       "    <tr>\n",
       "      <th>4</th>\n",
       "      <td>1</td>\n",
       "      <td>7318</td>\n",
       "    </tr>\n",
       "  </tbody>\n",
       "</table>\n",
       "</div>"
      ],
      "text/plain": [
       "   userId  movieId\n",
       "0       1     2011\n",
       "1       1     4144\n",
       "2       1     5767\n",
       "3       1     6711\n",
       "4       1     7318"
      ]
     },
     "execution_count": 15,
     "metadata": {},
     "output_type": "execute_result"
    }
   ],
   "source": [
    "test_df.head()"
   ]
  },
  {
   "cell_type": "code",
   "execution_count": 16,
   "id": "polish-retro",
   "metadata": {
    "id": "polish-retro",
    "papermill": {
     "duration": 0.018806,
     "end_time": "2021-06-14T11:20:09.191326",
     "exception": false,
     "start_time": "2021-06-14T11:20:09.172520",
     "status": "completed"
    },
    "tags": []
   },
   "outputs": [
    {
     "data": {
      "text/html": [
       "<div>\n",
       "<style scoped>\n",
       "    .dataframe tbody tr th:only-of-type {\n",
       "        vertical-align: middle;\n",
       "    }\n",
       "\n",
       "    .dataframe tbody tr th {\n",
       "        vertical-align: top;\n",
       "    }\n",
       "\n",
       "    .dataframe thead th {\n",
       "        text-align: right;\n",
       "    }\n",
       "</style>\n",
       "<table border=\"1\" class=\"dataframe\">\n",
       "  <thead>\n",
       "    <tr style=\"text-align: right;\">\n",
       "      <th></th>\n",
       "      <th>movieId</th>\n",
       "      <th>genres</th>\n",
       "    </tr>\n",
       "  </thead>\n",
       "  <tbody>\n",
       "    <tr>\n",
       "      <th>0</th>\n",
       "      <td>1</td>\n",
       "      <td>Adventure</td>\n",
       "    </tr>\n",
       "    <tr>\n",
       "      <th>1</th>\n",
       "      <td>1</td>\n",
       "      <td>Animation</td>\n",
       "    </tr>\n",
       "    <tr>\n",
       "      <th>2</th>\n",
       "      <td>1</td>\n",
       "      <td>Children</td>\n",
       "    </tr>\n",
       "    <tr>\n",
       "      <th>3</th>\n",
       "      <td>1</td>\n",
       "      <td>Comedy</td>\n",
       "    </tr>\n",
       "    <tr>\n",
       "      <th>4</th>\n",
       "      <td>1</td>\n",
       "      <td>Fantasy</td>\n",
       "    </tr>\n",
       "  </tbody>\n",
       "</table>\n",
       "</div>"
      ],
      "text/plain": [
       "   movieId     genres\n",
       "0        1  Adventure\n",
       "1        1  Animation\n",
       "2        1   Children\n",
       "3        1     Comedy\n",
       "4        1    Fantasy"
      ]
     },
     "execution_count": 16,
     "metadata": {},
     "output_type": "execute_result"
    }
   ],
   "source": [
    "# Create dataframe containing only the movieId and genres\n",
    "movies_genres = pd.DataFrame(movies_df[['movieId', 'genres']],\n",
    "                             columns=['movieId', 'genres'])\n",
    "\n",
    "# Split genres seperated by \"|\" and create a list containing the genres allocated to each movie\n",
    "movies_genres.genres = movies_genres.genres.apply(lambda x: x.split('|'))\n",
    "\n",
    "# Create expanded dataframe where each movie-genre combination is in a seperate row\n",
    "movies_genres = pd.DataFrame([(tup.movieId, d) for tup in movies_genres.itertuples() for d in tup.genres],\n",
    "                             columns=['movieId', 'genres'])\n",
    "\n",
    "movies_genres.head()"
   ]
  },
  {
   "cell_type": "markdown",
   "id": "8af5aa4f",
   "metadata": {
    "id": "8af5aa4f"
   },
   "source": [
    "**Lets plot genres from most common to least common**"
   ]
  },
  {
   "cell_type": "code",
   "execution_count": 17,
   "id": "37b7a1f4",
   "metadata": {
    "id": "37b7a1f4",
    "scrolled": true
   },
   "outputs": [
    {
     "data": {
      "image/png": "[encoded data removed]",
      "text/plain": [
       "<Figure size 1500x1000 with 1 Axes>"
      ]
     },
     "metadata": {},
     "output_type": "display_data"
    }
   ],
   "source": [
    "plot = plt.figure(figsize=(15, 10))\n",
    "plt.title('Most common genres\\n', fontsize=20)\n",
    "sns.countplot(y=\"genres\", data=movies_genres,\n",
    "              order=movies_genres['genres'].value_counts(ascending=False).index,\n",
    "              palette='Reds_r')\n",
    "plt.show()"
   ]
  },
  {
   "cell_type": "markdown",
   "id": "agricultural-episode",
   "metadata": {
    "id": "agricultural-episode",
    "papermill": {
     "duration": 0.013398,
     "end_time": "2021-06-14T11:20:09.218336",
     "exception": false,
     "start_time": "2021-06-14T11:20:09.204938",
     "status": "completed"
    },
    "tags": []
   },
   "source": [
    "## Modelling phase\n",
    " You only need to apply one version\n",
    "be it Content based or Collabrative method\n",
    "\n"
   ]
  },
  {
   "cell_type": "code",
   "execution_count": 18,
   "id": "relevant-uganda",
   "metadata": {
    "id": "relevant-uganda",
    "papermill": {
     "duration": 0.019188,
     "end_time": "2021-06-14T11:20:09.251198",
     "exception": false,
     "start_time": "2021-06-14T11:20:09.232010",
     "status": "completed"
    },
    "tags": []
   },
   "outputs": [],
   "source": [
    "import pandas as pd\n",
    "from surprise import Reader, Dataset, SVD, accuracy\n",
    "from surprise.model_selection import train_test_split\n",
    "\n",
    "# Sample books data\n",
    "books_data = {\n",
    "    'bookId': [1, 2, 3, 4, 5, 6, 7],\n",
    "    'title': ['To Kill a Mockingbird', '1984', 'The Great Gatsby', 'Pride and Prejudice', 'The Catcher in the Rye', 'Animal farm'\n",
    "              ,'Harry Potter']\n",
    "}\n",
    "\n",
    "# Create the books DataFrame\n",
    "books = pd.DataFrame(books_data)\n",
    "\n",
    "# Sample user profiles\n",
    "user_profiles = {\n",
    "    1: {'bookId': [2, 3, 4], 'rating': [5, 4, 3]},\n",
    "    2: {'bookId': [1, 3, 5], 'rating': [4, 5, 3]}\n",
    "}\n",
    "\n",
    "# Combine user profiles into a single DataFrame\n",
    "all_ratings = []\n",
    "\n",
    "for user_id, profile in user_profiles.items():\n",
    "    for book_id, rating in zip(profile['bookId'], profile['rating']):\n",
    "        all_ratings.append({'userId': user_id, 'bookId': book_id, 'rating': rating})\n",
    "\n",
    "ratings_df = pd.DataFrame(all_ratings)\n",
    "\n",
    "# Define the Reader and Dataset\n",
    "reader = Reader(rating_scale=(0.5, 5.0))\n",
    "data = Dataset.load_from_df(ratings_df[['userId', 'bookId', 'rating']], reader)\n"
   ]
  },
  {
   "cell_type": "markdown",
   "id": "n-LXiY5DoGrp",
   "metadata": {
    "id": "n-LXiY5DoGrp"
   },
   "source": [
    "## Lets Build and Evaluate Our Model"
   ]
  },
  {
   "cell_type": "code",
   "execution_count": 19,
   "id": "1d68a1e7",
   "metadata": {
    "id": "1d68a1e7"
   },
   "outputs": [
    {
     "name": "stdout",
     "output_type": "stream",
     "text": [
      "RMSE: 0.9264\n",
      "RMSE: 0.926420073266736\n"
     ]
    },
    {
     "data": {
      "text/html": [
       "<div>\n",
       "<style scoped>\n",
       "    .dataframe tbody tr th:only-of-type {\n",
       "        vertical-align: middle;\n",
       "    }\n",
       "\n",
       "    .dataframe tbody tr th {\n",
       "        vertical-align: top;\n",
       "    }\n",
       "\n",
       "    .dataframe thead th {\n",
       "        text-align: right;\n",
       "    }\n",
       "</style>\n",
       "<table border=\"1\" class=\"dataframe\">\n",
       "  <thead>\n",
       "    <tr style=\"text-align: right;\">\n",
       "      <th></th>\n",
       "      <th>uid</th>\n",
       "      <th>iid</th>\n",
       "      <th>r_ui</th>\n",
       "      <th>est</th>\n",
       "      <th>details</th>\n",
       "    </tr>\n",
       "  </thead>\n",
       "  <tbody>\n",
       "    <tr>\n",
       "      <th>0</th>\n",
       "      <td>2</td>\n",
       "      <td>1</td>\n",
       "      <td>4.0</td>\n",
       "      <td>3.767703</td>\n",
       "      <td>{'was_impossible': False}</td>\n",
       "    </tr>\n",
       "    <tr>\n",
       "      <th>1</th>\n",
       "      <td>1</td>\n",
       "      <td>2</td>\n",
       "      <td>5.0</td>\n",
       "      <td>3.710602</td>\n",
       "      <td>{'was_impossible': False}</td>\n",
       "    </tr>\n",
       "  </tbody>\n",
       "</table>\n",
       "</div>"
      ],
      "text/plain": [
       "   uid  iid  r_ui       est                    details\n",
       "0    2    1   4.0  3.767703  {'was_impossible': False}\n",
       "1    1    2   5.0  3.710602  {'was_impossible': False}"
      ]
     },
     "execution_count": 19,
     "metadata": {},
     "output_type": "execute_result"
    }
   ],
   "source": [
    "# Split the data into training and test sets\n",
    "trainset, testset = train_test_split(data, test_size=0.2, )\n",
    "\n",
    "# Train the SVD model\n",
    "svd = SVD()\n",
    "svd.fit(trainset)\n",
    "\n",
    "# Make predictions on the test set\n",
    "predictions = svd.test(testset)\n",
    "\n",
    "# Compute and print the RMSE\n",
    "rmse = accuracy.rmse(predictions)\n",
    "print(f\"RMSE: {rmse}\")\n",
    "\n",
    "pred = pd.DataFrame(predictions)\n",
    "pred"
   ]
  },
  {
   "cell_type": "markdown",
   "id": "6fb0645b",
   "metadata": {
    "id": "6fb0645b"
   },
   "source": [
    "## Recommendation Function"
   ]
  },
  {
   "cell_type": "code",
   "execution_count": 20,
   "id": "84999207",
   "metadata": {
    "id": "84999207"
   },
   "outputs": [
    {
     "data": {
      "text/html": [
       "<div>\n",
       "<style scoped>\n",
       "    .dataframe tbody tr th:only-of-type {\n",
       "        vertical-align: middle;\n",
       "    }\n",
       "\n",
       "    .dataframe tbody tr th {\n",
       "        vertical-align: top;\n",
       "    }\n",
       "\n",
       "    .dataframe thead th {\n",
       "        text-align: right;\n",
       "    }\n",
       "</style>\n",
       "<table border=\"1\" class=\"dataframe\">\n",
       "  <thead>\n",
       "    <tr style=\"text-align: right;\">\n",
       "      <th></th>\n",
       "      <th>userId</th>\n",
       "      <th>Recommended Book</th>\n",
       "      <th>Predicted_Rating</th>\n",
       "      <th>Actual Rating</th>\n",
       "    </tr>\n",
       "  </thead>\n",
       "  <tbody>\n",
       "    <tr>\n",
       "      <th>0</th>\n",
       "      <td>1</td>\n",
       "      <td>The Great Gatsby</td>\n",
       "      <td>3.890178</td>\n",
       "      <td>4.0</td>\n",
       "    </tr>\n",
       "    <tr>\n",
       "      <th>1</th>\n",
       "      <td>1</td>\n",
       "      <td>To Kill a Mockingbird</td>\n",
       "      <td>3.710602</td>\n",
       "      <td>NaN</td>\n",
       "    </tr>\n",
       "    <tr>\n",
       "      <th>2</th>\n",
       "      <td>1</td>\n",
       "      <td>1984</td>\n",
       "      <td>3.710602</td>\n",
       "      <td>5.0</td>\n",
       "    </tr>\n",
       "    <tr>\n",
       "      <th>3</th>\n",
       "      <td>1</td>\n",
       "      <td>Animal farm</td>\n",
       "      <td>3.710602</td>\n",
       "      <td>NaN</td>\n",
       "    </tr>\n",
       "    <tr>\n",
       "      <th>4</th>\n",
       "      <td>1</td>\n",
       "      <td>Harry Potter</td>\n",
       "      <td>3.710602</td>\n",
       "      <td>NaN</td>\n",
       "    </tr>\n",
       "    <tr>\n",
       "      <th>5</th>\n",
       "      <td>1</td>\n",
       "      <td>The Catcher in the Rye</td>\n",
       "      <td>3.525364</td>\n",
       "      <td>NaN</td>\n",
       "    </tr>\n",
       "    <tr>\n",
       "      <th>6</th>\n",
       "      <td>1</td>\n",
       "      <td>Pride and Prejudice</td>\n",
       "      <td>3.455532</td>\n",
       "      <td>3.0</td>\n",
       "    </tr>\n",
       "    <tr>\n",
       "      <th>7</th>\n",
       "      <td>2</td>\n",
       "      <td>The Great Gatsby</td>\n",
       "      <td>4.282375</td>\n",
       "      <td>5.0</td>\n",
       "    </tr>\n",
       "    <tr>\n",
       "      <th>8</th>\n",
       "      <td>2</td>\n",
       "      <td>To Kill a Mockingbird</td>\n",
       "      <td>3.767703</td>\n",
       "      <td>4.0</td>\n",
       "    </tr>\n",
       "    <tr>\n",
       "      <th>9</th>\n",
       "      <td>2</td>\n",
       "      <td>1984</td>\n",
       "      <td>3.767703</td>\n",
       "      <td>NaN</td>\n",
       "    </tr>\n",
       "    <tr>\n",
       "      <th>10</th>\n",
       "      <td>2</td>\n",
       "      <td>Animal farm</td>\n",
       "      <td>3.767703</td>\n",
       "      <td>NaN</td>\n",
       "    </tr>\n",
       "    <tr>\n",
       "      <th>11</th>\n",
       "      <td>2</td>\n",
       "      <td>Harry Potter</td>\n",
       "      <td>3.767703</td>\n",
       "      <td>NaN</td>\n",
       "    </tr>\n",
       "    <tr>\n",
       "      <th>12</th>\n",
       "      <td>2</td>\n",
       "      <td>The Catcher in the Rye</td>\n",
       "      <td>3.584908</td>\n",
       "      <td>3.0</td>\n",
       "    </tr>\n",
       "    <tr>\n",
       "      <th>13</th>\n",
       "      <td>2</td>\n",
       "      <td>Pride and Prejudice</td>\n",
       "      <td>3.574654</td>\n",
       "      <td>NaN</td>\n",
       "    </tr>\n",
       "  </tbody>\n",
       "</table>\n",
       "</div>"
      ],
      "text/plain": [
       "    userId        Recommended Book  Predicted_Rating  Actual Rating\n",
       "0        1        The Great Gatsby          3.890178            4.0\n",
       "1        1   To Kill a Mockingbird          3.710602            NaN\n",
       "2        1                    1984          3.710602            5.0\n",
       "3        1             Animal farm          3.710602            NaN\n",
       "4        1            Harry Potter          3.710602            NaN\n",
       "5        1  The Catcher in the Rye          3.525364            NaN\n",
       "6        1     Pride and Prejudice          3.455532            3.0\n",
       "7        2        The Great Gatsby          4.282375            5.0\n",
       "8        2   To Kill a Mockingbird          3.767703            4.0\n",
       "9        2                    1984          3.767703            NaN\n",
       "10       2             Animal farm          3.767703            NaN\n",
       "11       2            Harry Potter          3.767703            NaN\n",
       "12       2  The Catcher in the Rye          3.584908            3.0\n",
       "13       2     Pride and Prejudice          3.574654            NaN"
      ]
     },
     "execution_count": 20,
     "metadata": {},
     "output_type": "execute_result"
    }
   ],
   "source": [
    "# Function to get collaborative recommendations for a user profile\n",
    "def get_collaborative_recommendations(user_id, svd, books, ratings_df, n=10):\n",
    "    recommendations = []\n",
    "    book_ids = books['bookId'].unique()\n",
    "\n",
    "    for book_id in book_ids:\n",
    "        prediction = svd.predict(user_id, book_id)\n",
    "        actual_rating = ratings_df[(ratings_df['userId'] == user_id) & (ratings_df['bookId'] == book_id)]['rating']\n",
    "        actual_rating = actual_rating.values[0] if not actual_rating.empty else None\n",
    "        recommendations.append((books[books['bookId'] == book_id]['title'].values[0], prediction.est, actual_rating))\n",
    "\n",
    "    recommendations = sorted(recommendations, key=lambda x: x[1], reverse=True)\n",
    "\n",
    "    return recommendations[:n]\n",
    "\n",
    "# Generate recommendations for each user profile and collect them in a list\n",
    "all_recommendations = []\n",
    "\n",
    "for user_id in user_profiles.keys():\n",
    "    recommendations = get_collaborative_recommendations(user_id, svd, books, ratings_df)\n",
    "    for title, predicted_rating, actual_rating in recommendations:\n",
    "        all_recommendations.append({\n",
    "            'userId': user_id,\n",
    "            'Recommended Book': title,\n",
    "            'Predicted_Rating': predicted_rating,\n",
    "            'Actual Rating': actual_rating\n",
    "        })\n",
    "\n",
    "# Convert the list of recommendations to a DataFrame\n",
    "recommendations_df = pd.DataFrame(all_recommendations)\n",
    "\n",
    "recommendations_df"
   ]
  },
  {
   "cell_type": "markdown",
   "id": "robust-burton",
   "metadata": {
    "id": "robust-burton",
    "papermill": {
     "duration": 0.013848,
     "end_time": "2021-06-14T11:20:09.278819",
     "exception": false,
     "start_time": "2021-06-14T11:20:09.264971",
     "status": "completed"
    },
    "tags": []
   },
   "source": [
    "# Generate your outputs here"
   ]
  },
  {
   "cell_type": "markdown",
   "id": "sustained-lawsuit",
   "metadata": {
    "id": "sustained-lawsuit",
    "papermill": {
     "duration": 0.013303,
     "end_time": "2021-06-14T11:20:09.305786",
     "exception": false,
     "start_time": "2021-06-14T11:20:09.292483",
     "status": "completed"
    },
    "tags": []
   },
   "source": [
    "Prepare Submission File\n",
    "We make submissions in CSV files. Your submissions usually have two columns: an ID column and a prediction column. The ID field comes from the test data (keeping whatever name the ID field had in that data, which for the data is the string 'Id'). The prediction column will use the name of the target field.\n",
    "\n",
    "We will create a DataFrame with this data, and then use the dataframe's to_csv method to write our submission file. Explicitly include the argument index=False to prevent pandas from adding another column in our csv file."
   ]
  },
  {
   "cell_type": "code",
   "execution_count": 21,
   "id": "major-gossip",
   "metadata": {
    "id": "major-gossip",
    "papermill": {
     "duration": 0.019235,
     "end_time": "2021-06-14T11:20:09.338682",
     "exception": false,
     "start_time": "2021-06-14T11:20:09.319447",
     "status": "completed"
    },
    "tags": []
   },
   "outputs": [],
   "source": [
    "# This is an example\n",
    "my_submission = pd.DataFrame({'id': recommendations_df.userId,'predict': recommendations_df.Predicted_Rating})\n",
    "#you could use any filename. We choose submission here\n",
    "my_submission.to_csv('submission.csv', index=False)"
   ]
  },
  {
   "cell_type": "markdown",
   "id": "1661282b",
   "metadata": {
    "id": "1661282b",
    "papermill": {
     "duration": 0.013439,
     "end_time": "2021-06-14T11:20:09.498408",
     "exception": false,
     "start_time": "2021-06-14T11:20:09.484969",
     "status": "completed"
    },
    "tags": []
   },
   "source": [
    "# Tips\n",
    "- NB:Read the description well\n",
    "    - REMEMBER: Concatenated ID\n",
    "    - Evatualtion metrics\n",
    "- Sampling is your friend -> start small and scale up\n",
    "- Data ingestioon, pleasse ensure the correct path is dependant on the environment\n",
    "- Ensure test output matches dimension of test set for Kaggle submission\n",
    "- 20 Submissions per day\n",
    "- This is individual project\n",
    "- Ensure email correlates to Athena for effective tracking\n",
    "- If you use a shuffler ensure test output aligns with test sample ordering\n",
    "  - (from sklearn.utils import shuffle), for randomness\n",
    "- Make sure your notebook is in the same folder\n",
    "- Analyse your data well\n",
    "- Make sure you have gone through your content\n"
   ]
  },
  {
   "cell_type": "markdown",
   "id": "10cb1954-31a8-422f-af68-7d1826673bde",
   "metadata": {
    "id": "JPdS9m4cKABb"
   },
   "source": [
    "##Read & understand the Dataset\n"
   ]
  },
  {
   "cell_type": "code",
   "execution_count": 1,
   "id": "16bac966-1b16-4c1c-a860-fa5f10b9da8a",
   "metadata": {},
   "outputs": [
    {
     "name": "stdout",
     "output_type": "stream",
     "text": [
      "   userId  movieId  rating   timestamp\n",
      "0    5163    57669     4.0  1518349992\n",
      "1  106343        5     4.5  1206238739\n",
      "2  146790     5459     5.0  1076215539\n",
      "3  106362    32296     2.0  1423042565\n",
      "4    9041      366     3.0   833375837\n",
      "   movieId                               title  \\\n",
      "0        1                    Toy Story (1995)   \n",
      "1        2                      Jumanji (1995)   \n",
      "2        3             Grumpier Old Men (1995)   \n",
      "3        4            Waiting to Exhale (1995)   \n",
      "4        5  Father of the Bride Part II (1995)   \n",
      "\n",
      "                                        genres  \n",
      "0  Adventure|Animation|Children|Comedy|Fantasy  \n",
      "1                   Adventure|Children|Fantasy  \n",
      "2                               Comedy|Romance  \n",
      "3                         Comedy|Drama|Romance  \n",
      "4                                       Comedy  \n",
      "   movieId                                         title_cast  \\\n",
      "0        1  Tom Hanks|Tim Allen|Don Rickles|Jim Varney|Wal...   \n",
      "1        2  Robin Williams|Jonathan Hyde|Kirsten Dunst|Bra...   \n",
      "2        3  Walter Matthau|Jack Lemmon|Sophia Loren|Ann-Ma...   \n",
      "3        4  Whitney Houston|Angela Bassett|Loretta Devine|...   \n",
      "4        5  Steve Martin|Diane Keaton|Martin Short|Kimberl...   \n",
      "\n",
      "              director  runtime       budget  \\\n",
      "0        John Lasseter     81.0  $30,000,000   \n",
      "1   Jonathan Hensleigh    104.0  $65,000,000   \n",
      "2  Mark Steven Johnson    101.0  $25,000,000   \n",
      "3       Terry McMillan    124.0  $16,000,000   \n",
      "4       Albert Hackett    106.0  $30,000,000   \n",
      "\n",
      "                                       plot_keywords  \n",
      "0                   toy|rivalry|cowboy|cgi animation  \n",
      "1                   board game|adventurer|fight|game  \n",
      "2                         boat|lake|neighbor|rivalry  \n",
      "3  black american|husband wife relationship|betra...  \n",
      "4                    fatherhood|doberman|dog|mansion  \n",
      "   userId  movieId\n",
      "0       1     2011\n",
      "1       1     4144\n",
      "2       1     5767\n",
      "3       1     6711\n",
      "4       1     7318\n",
      "   movieId  imdbId   tmdbId\n",
      "0        1  114709    862.0\n",
      "1        2  113497   8844.0\n",
      "2        3  113228  15602.0\n",
      "3        4  114885  31357.0\n",
      "4        5  113041  11862.0\n",
      "   userId  movieId               tag   timestamp\n",
      "0       3      260           classic  1439472355\n",
      "1       3      260            sci-fi  1439472256\n",
      "2       4     1732       dark comedy  1573943598\n",
      "3       4     1732    great dialogue  1573943604\n",
      "4       4     7569  so bad it's good  1573943455\n",
      "   movieId  tagId  relevance\n",
      "0        1      1    0.02875\n",
      "1        1      2    0.02375\n",
      "2        1      3    0.06250\n",
      "3        1      4    0.07575\n",
      "4        1      5    0.14075\n",
      "   tagId           tag\n",
      "0      1           007\n",
      "1      2  007 (series)\n",
      "2      3  18th century\n",
      "3      4         1920s\n",
      "4      5         1930s\n",
      "       Id  rating\n",
      "0  1_2011     1.0\n",
      "1  1_4144     1.0\n",
      "2  1_5767     1.0\n",
      "3  1_6711     1.0\n",
      "4  1_7318     1.0\n"
     ]
    }
   ],
   "source": [
    "import pandas as pd\n",
    "\n",
    "train_df = pd.read_csv(r'C:\\Users\\chris\\Downloads\\UNSUPERVISED LEARNING\\KAGGLE COMPETITION\\alx-movie-recommendation-project-2024\\train.csv')\n",
    "movies_df = pd.read_csv(r'C:\\Users\\chris\\Downloads\\UNSUPERVISED LEARNING\\KAGGLE COMPETITION\\alx-movie-recommendation-project-2024\\movies.csv')\n",
    "imdb_df = pd.read_csv(r'C:\\Users\\chris\\Downloads\\UNSUPERVISED LEARNING\\KAGGLE COMPETITION\\alx-movie-recommendation-project-2024\\imdb_data.csv')\n",
    "test_df = pd.read_csv(r'C:\\Users\\chris\\Downloads\\UNSUPERVISED LEARNING\\KAGGLE COMPETITION\\alx-movie-recommendation-project-2024\\test.csv')\n",
    "links_df = pd.read_csv(r'C:\\Users\\chris\\Downloads\\UNSUPERVISED LEARNING\\KAGGLE COMPETITION\\alx-movie-recommendation-project-2024\\links.csv')\n",
    "tags_df = pd.read_csv(r'C:\\Users\\chris\\Downloads\\UNSUPERVISED LEARNING\\KAGGLE COMPETITION\\alx-movie-recommendation-project-2024\\tags.csv')\n",
    "genome_scores_df = pd.read_csv(r'C:\\Users\\chris\\Downloads\\UNSUPERVISED LEARNING\\KAGGLE COMPETITION\\alx-movie-recommendation-project-2024\\genome_scores.csv')\n",
    "genome_tags_df = pd.read_csv(r'C:\\Users\\chris\\Downloads\\UNSUPERVISED LEARNING\\KAGGLE COMPETITION\\alx-movie-recommendation-project-2024\\genome_tags.csv')\n",
    "sample_submissions_df = pd.read_csv(r'C:\\Users\\chris\\Downloads\\UNSUPERVISED LEARNING\\KAGGLE COMPETITION\\alx-movie-recommendation-project-2024\\sample_submission.csv')\n",
    "\n",
    "# Display the first few rows of each dataframe to understand their structure\n",
    "print(train_df.head())\n",
    "print(movies_df.head())\n",
    "print(imdb_df.head())\n",
    "print(test_df.head())\n",
    "print(links_df.head())\n",
    "print(tags_df.head())\n",
    "print(genome_scores_df.head())\n",
    "print(genome_tags_df.head())\n",
    "print(sample_submissions_df.head())\n"
   ]
  },
  {
   "cell_type": "markdown",
   "id": "d9824034-781b-4aee-9d55-79d5e980d460",
   "metadata": {},
   "source": [
    "##Build a Recommendation Model"
   ]
  },
  {
   "cell_type": "code",
   "execution_count": 2,
   "id": "976ec0a6-f82a-4556-804b-bbd8996f0fe2",
   "metadata": {},
   "outputs": [
    {
     "name": "stdout",
     "output_type": "stream",
     "text": [
      "RMSE: 0.8346\n",
      "RMSE: 0.8345712452365801\n"
     ]
    }
   ],
   "source": [
    "from surprise import SVD, Dataset, Reader\n",
    "from surprise.model_selection import train_test_split\n",
    "from surprise import accuracy\n",
    "\n",
    "# Prepare data for Surprise library\n",
    "reader = Reader(rating_scale=(0.5, 5.0))\n",
    "data = Dataset.load_from_df(train_df[['userId', 'movieId', 'rating']], reader)\n",
    "trainset, testset = train_test_split(data, test_size=0.2)\n",
    "\n",
    "# Train SVD model\n",
    "algo = SVD()\n",
    "algo.fit(trainset)\n",
    "\n",
    "# Evaluate the model\n",
    "predictions = algo.test(testset)\n",
    "rmse = accuracy.rmse(predictions)\n",
    "print(f'RMSE: {rmse}')\n"
   ]
  },
  {
   "cell_type": "markdown",
   "id": "e6e61bcc-8455-414f-b4e3-bef6c8242b58",
   "metadata": {},
   "source": [
    "#Generate Predictions"
   ]
  },
  {
   "cell_type": "code",
   "execution_count": 3,
   "id": "cf39e184-275f-45ad-825f-65817ffc9654",
   "metadata": {},
   "outputs": [],
   "source": [
    "# Create predictions for the test set\n",
    "test_df['rating'] = test_df.apply(lambda x: algo.predict(x['userId'], x['movieId']).est, axis=1)\n",
    "\n",
    "# Format the Id column as specified\n",
    "test_df['Id'] = test_df['userId'].astype(str) + '_' + test_df['movieId'].astype(str)\n",
    "\n",
    "# Select only the required columns\n",
    "submission_df = test_df[['Id', 'rating']]\n"
   ]
  },
  {
   "cell_type": "markdown",
   "id": "591aa580-a75a-479e-9457-dbdcf79d8a8f",
   "metadata": {},
   "source": [
    "##Prepare the Submission File"
   ]
  },
  {
   "cell_type": "code",
   "execution_count": 4,
   "id": "bac08587-f329-4833-aba6-d32492417968",
   "metadata": {},
   "outputs": [],
   "source": [
    "submission_df.to_csv('submission.csv', index=False)\n"
   ]
  },
  {
   "cell_type": "markdown",
   "id": "3e677aeb-22a2-4ab4-a5c8-3a32e87198f4",
   "metadata": {},
   "source": [
    "Submit the File Using Kaggle API"
   ]
  },
  {
   "cell_type": "code",
   "execution_count": 6,
   "id": "23812262-23f9-4233-a7b8-aefe55624561",
   "metadata": {},
   "outputs": [
    {
     "name": "stdout",
     "output_type": "stream",
     "text": [
      "Collecting kaggle\n",
      "  Downloading kaggle-1.6.14.tar.gz (82 kB)\n",
      "     ---------------------------------------- 0.0/82.1 kB ? eta -:--:--\n",
      "     --------- ---------------------------- 20.5/82.1 kB 320.0 kB/s eta 0:00:01\n",
      "     -------------------------------------  81.9/82.1 kB 919.0 kB/s eta 0:00:01\n",
      "     -------------------------------------- 82.1/82.1 kB 764.4 kB/s eta 0:00:00\n",
      "  Preparing metadata (setup.py): started\n",
      "  Preparing metadata (setup.py): finished with status 'done'\n",
      "Requirement already satisfied: six>=1.10 in c:\\users\\chris\\anaconda3\\envs\\my_environment\\lib\\site-packages (from kaggle) (1.16.0)\n",
      "Requirement already satisfied: certifi>=2023.7.22 in c:\\users\\chris\\anaconda3\\envs\\my_environment\\lib\\site-packages (from kaggle) (2024.2.2)\n",
      "Requirement already satisfied: python-dateutil in c:\\users\\chris\\anaconda3\\envs\\my_environment\\lib\\site-packages (from kaggle) (2.8.2)\n",
      "Requirement already satisfied: requests in c:\\users\\chris\\anaconda3\\envs\\my_environment\\lib\\site-packages (from kaggle) (2.31.0)\n",
      "Requirement already satisfied: tqdm in c:\\users\\chris\\anaconda3\\envs\\my_environment\\lib\\site-packages (from kaggle) (4.66.2)\n",
      "Collecting python-slugify (from kaggle)\n",
      "  Downloading python_slugify-8.0.4-py2.py3-none-any.whl.metadata (8.5 kB)\n",
      "Requirement already satisfied: urllib3 in c:\\users\\chris\\anaconda3\\envs\\my_environment\\lib\\site-packages (from kaggle) (2.1.0)\n",
      "Requirement already satisfied: bleach in c:\\users\\chris\\anaconda3\\envs\\my_environment\\lib\\site-packages (from kaggle) (4.1.0)\n",
      "Requirement already satisfied: packaging in c:\\users\\chris\\anaconda3\\envs\\my_environment\\lib\\site-packages (from bleach->kaggle) (23.1)\n",
      "Requirement already satisfied: webencodings in c:\\users\\chris\\anaconda3\\envs\\my_environment\\lib\\site-packages (from bleach->kaggle) (0.5.1)\n",
      "Collecting text-unidecode>=1.3 (from python-slugify->kaggle)\n",
      "  Downloading text_unidecode-1.3-py2.py3-none-any.whl.metadata (2.4 kB)\n",
      "Requirement already satisfied: charset-normalizer<4,>=2 in c:\\users\\chris\\anaconda3\\envs\\my_environment\\lib\\site-packages (from requests->kaggle) (2.0.4)\n",
      "Requirement already satisfied: idna<4,>=2.5 in c:\\users\\chris\\anaconda3\\envs\\my_environment\\lib\\site-packages (from requests->kaggle) (3.4)\n",
      "Requirement already satisfied: colorama in c:\\users\\chris\\anaconda3\\envs\\my_environment\\lib\\site-packages (from tqdm->kaggle) (0.4.6)\n",
      "Downloading python_slugify-8.0.4-py2.py3-none-any.whl (10 kB)\n",
      "Downloading text_unidecode-1.3-py2.py3-none-any.whl (78 kB)\n",
      "   ---------------------------------------- 0.0/78.2 kB ? eta -:--:--\n",
      "   ---------------------------------------- 78.2/78.2 kB 4.5 MB/s eta 0:00:00\n",
      "Building wheels for collected packages: kaggle\n",
      "  Building wheel for kaggle (setup.py): started\n",
      "  Building wheel for kaggle (setup.py): finished with status 'done'\n",
      "  Created wheel for kaggle: filename=kaggle-1.6.14-py3-none-any.whl size=105130 sha256=931c4045265e69219f644865a88dd64bd58d0571e09bce3236d9dfc5bdf6dff9\n",
      "  Stored in directory: c:\\users\\chris\\appdata\\local\\pip\\cache\\wheels\\89\\bc\\52\\0d140fc172783e1e72e3af4dfc13015dc154527fafb95e65cd\n",
      "Successfully built kaggle\n",
      "Installing collected packages: text-unidecode, python-slugify, kaggle\n",
      "Successfully installed kaggle-1.6.14 python-slugify-8.0.4 text-unidecode-1.3\n",
      "Note: you may need to restart the kernel to use updated packages.\n"
     ]
    }
   ],
   "source": [
    "pip install kaggle\n"
   ]
  },
  {
   "cell_type": "code",
   "execution_count": null,
   "id": "47c19bfa-d2c1-4a20-85c3-0643cb4beb50",
   "metadata": {},
   "outputs": [],
   "source": []
  }
 ],
 "metadata": {
  "colab": {
   "provenance": []
  },
  "kernelspec": {
   "display_name": "Python 3 (ipykernel)",
   "language": "python",
   "name": "python3"
  },
  "language_info": {
   "codemirror_mode": {
    "name": "ipython",
    "version": 3
   },
   "file_extension": ".py",
   "mimetype": "text/x-python",
   "name": "python",
   "nbconvert_exporter": "python",
   "pygments_lexer": "ipython3",
   "version": "3.12.2"
  },
  "papermill": {
   "default_parameters": {},
   "duration": 27.559281,
   "end_time": "2021-06-14T11:20:10.319911",
   "environment_variables": {},
   "exception": null,
   "input_path": "__notebook__.ipynb",
   "output_path": "__notebook__.ipynb",
   "parameters": {},
   "start_time": "2021-06-14T11:19:42.760630",
   "version": "2.3.3"
  }
 },
 "nbformat": 4,
 "nbformat_minor": 5
}
